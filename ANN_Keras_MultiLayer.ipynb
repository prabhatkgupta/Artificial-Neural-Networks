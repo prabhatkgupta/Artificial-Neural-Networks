{
  "nbformat": 4,
  "nbformat_minor": 0,
  "metadata": {
    "colab": {
      "name": "ANN_Keras_MultiLayer",
      "version": "0.3.2",
      "provenance": [],
      "collapsed_sections": []
    },
    "kernelspec": {
      "name": "python3",
      "display_name": "Python 3"
    }
  },
  "cells": [
    {
      "cell_type": "code",
      "metadata": {
        "id": "b_hiBVxcU1R3",
        "colab_type": "code",
        "colab": {}
      },
      "source": [
        "import numpy as np\n",
        "import h5py\n",
        "import tensorflow as tf\n",
        "import matplotlib.pyplot as plt\n",
        "import os\n",
        "import keras\n",
        "from keras.layers import *\n",
        "from keras.regularizers import *\n",
        "from keras.optimizers import *\n",
        "\n",
        "%matplotlib inline"
      ],
      "execution_count": 0,
      "outputs": []
    },
    {
      "cell_type": "code",
      "metadata": {
        "id": "9Xwxnyloqo35",
        "colab_type": "code",
        "colab": {}
      },
      "source": [
        "os.chdir('drive/My Drive/Dataset')"
      ],
      "execution_count": 0,
      "outputs": []
    },
    {
      "cell_type": "code",
      "metadata": {
        "id": "EyBB9sKfq-yy",
        "colab_type": "code",
        "colab": {}
      },
      "source": [
        "def Load_Data():\n",
        "  \n",
        "  train_dataset = h5py.File('train_signs.h5','r')\n",
        "  test_dataset = h5py.File('test_signs.h5','r')\n",
        "  \n",
        "  train_set_X_orig = np.array(train_dataset['train_set_x'][:])\n",
        "  train_set_Y_orig = np.array(train_dataset['train_set_y'][:])\n",
        "  test_set_X_orig = np.array(test_dataset['test_set_x'][:])\n",
        "  test_set_Y_orig = np.array(test_dataset['test_set_y'][:])\n",
        "  \n",
        "  classes = np.array(test_dataset['list_classes'][:])\n",
        "  \n",
        "  return train_set_X_orig,train_set_Y_orig,test_set_X_orig,test_set_Y_orig,classes"
      ],
      "execution_count": 0,
      "outputs": []
    },
    {
      "cell_type": "code",
      "metadata": {
        "id": "mIsxV1Cfs8VW",
        "colab_type": "code",
        "colab": {
          "base_uri": "https://localhost:8080/",
          "height": 305
        },
        "outputId": "49ca77f5-0843-43fb-e8be-b857d9302861"
      },
      "source": [
        "train_set_X_orig,train_set_Y_orig,test_set_X_orig,test_set_Y_orig,classes = Load_Data()\n",
        "\n",
        "print(train_set_X_orig.shape,train_set_Y_orig.shape,test_set_X_orig.shape,test_set_Y_orig.shape)\n",
        "i = 10\n",
        "plt.imshow(test_set_X_orig[i])\n",
        "print('y = '+str(test_set_Y_orig[i])+'. It is the number '+str(test_set_Y_orig[i]))"
      ],
      "execution_count": 45,
      "outputs": [
        {
          "output_type": "stream",
          "text": [
            "(1080, 64, 64, 3) (1080,) (120, 64, 64, 3) (120,)\n",
            "y = 5. It is the number 5\n"
          ],
          "name": "stdout"
        },
        {
          "output_type": "display_data",
          "data": {
            "image/png": "[encoded data removed]",
            "text/plain": [
              "<Figure size 432x288 with 1 Axes>"
            ]
          },
          "metadata": {
            "tags": []
          }
        }
      ]
    },
    {
      "cell_type": "code",
      "metadata": {
        "id": "VQgIzYaus_Wa",
        "colab_type": "code",
        "colab": {}
      },
      "source": [
        "def Reshape_And_Normalize(train_set_X_orig,train_set_Y_orig,test_set_X_orig,test_set_Y_orig):\n",
        "  \n",
        "  m_train = train_set_X_orig.shape[0]\n",
        "  m_test = test_set_X_orig.shape[0]\n",
        "  train_set_X = train_set_X_orig.reshape(m_train,-1)\n",
        "  test_set_X = test_set_X_orig.reshape(m_test,-1)\n",
        "\n",
        "  train_set_Y = train_set_Y_orig.reshape((m_train,1))\n",
        "  test_set_Y = test_set_Y_orig.reshape((m_test,1))\n",
        "  \n",
        "  U_train = np.sum(train_set_X,axis=1,keepdims=True)/m_train\n",
        "  U_test = np.sum(test_set_X,axis=1,keepdims=True)/m_test\n",
        "  \n",
        "  train_set_X = train_set_X - U_train\n",
        "  test_set_X = test_set_X - U_test\n",
        "  \n",
        "  sigma_train = np.sqrt(np.sum(np.square(train_set_X),axis=1,keepdims=True)/m_train)\n",
        "  sigma_test = np.sqrt(np.sum(np.square(test_set_X),axis=1,keepdims=True)/m_test)\n",
        "  \n",
        "  train_set_X /= sigma_train\n",
        "  test_set_X /= sigma_test\n",
        "  \n",
        "  return train_set_X,train_set_Y,test_set_X,test_set_Y"
      ],
      "execution_count": 0,
      "outputs": []
    },
    {
      "cell_type": "code",
      "metadata": {
        "id": "yWwv7zXFtDKr",
        "colab_type": "code",
        "colab": {}
      },
      "source": [
        "def Data_Preprocessing():\n",
        "  \n",
        "  train_set_X_orig,train_set_Y_orig,test_set_X_orig,test_set_Y_orig,classes = Load_Data()\n",
        "  train_set_X,train_set_Y,test_set_X,test_set_Y = Reshape_And_Normalize(train_set_X_orig,train_set_Y_orig,test_set_X_orig,test_set_Y_orig)\n",
        "  \n",
        "  return train_set_X,train_set_Y,test_set_X,test_set_Y"
      ],
      "execution_count": 0,
      "outputs": []
    },
    {
      "cell_type": "code",
      "metadata": {
        "id": "V5jrj6KptGpJ",
        "colab_type": "code",
        "colab": {}
      },
      "source": [
        "def Propagation(layers_dims,regu,lambd,keep_prob):\n",
        "  \n",
        "  model = keras.models.Sequential()\n",
        "  L = len(layers_dims)\n",
        "  if(regu):\n",
        "    lambd = lambd\n",
        "  else:\n",
        "    lambd = 0.0\n",
        "  \n",
        "  for l in range(1,L):\n",
        "    \n",
        "    if(l < L-1):\n",
        "      activation = 'relu'\n",
        "    else:\n",
        "      if(layers_dims[l] == 1):\n",
        "        activation = 'sigmoid'\n",
        "      else:\n",
        "        activation = 'softmax'\n",
        "     \n",
        "    model.add(BatchNormalization(axis=1,name='BatchNorm_F'+str(l+1)))\n",
        "    model.add(Dense(layers_dims[l],activation=activation,kernel_initializer='glorot_uniform', bias_initializer='zeros',name='FullyConnected'+str(l+1),use_bias=True,kernel_regularizer=l2(0.01)))\n",
        "    model.add(Dropout(rate=keep_prob[l-1]))\n",
        "  \n",
        "  return model"
      ],
      "execution_count": 0,
      "outputs": []
    },
    {
      "cell_type": "code",
      "metadata": {
        "id": "ujCEu99-xGnQ",
        "colab_type": "code",
        "colab": {}
      },
      "source": [
        "def Caller_Function():\n",
        "  \n",
        "  train_set_X,train_set_Y,test_set_X,test_set_Y = Data_Preprocessing()\n",
        "  epochs = 10\n",
        "  regu = False\n",
        "  lambd = 0.01\n",
        "  mini_batch_size = 10\n",
        "  layers_dims = [train_set_X.shape[1]]\n",
        "  layers_dims.extend([1024,6])\n",
        "  keep_prob = [1,1]\n",
        "  train_set_Y = np.eye(layers_dims[len(layers_dims)-1])[train_set_Y.T][0]\n",
        "  test_set_Y = np.eye(layers_dims[len(layers_dims)-1])[test_set_Y.T][0]\n",
        "  \n",
        "  model = Propagation(layers_dims,regu,lambd,keep_prob)\n",
        "  opt = Adam(lr=0.05)\n",
        "  model.compile(loss='categorical_crossentropy',optimizer=opt,metrics=['accuracy'])\n",
        "  model.fit(x=train_set_X[0:50,:],y=train_set_Y[0:50,:],epochs=epochs,batch_size=mini_batch_size)\n",
        "  print('')\n",
        "  preds = model.evaluate(x=train_set_X[0:10,:],y=train_set_Y[0:10,:])\n",
        "  print(\"Train_Accuracy : \"+str(preds[1]*100))\n",
        "  print('')\n",
        "  preds = model.evaluate(x=test_set_X[0:10,:],y=test_set_Y[0:10,:])\n",
        "  print(\"Test_Accuracy : \"+str(preds[1]*100))\n",
        "  \n",
        "  model.summary()\n",
        "  print(model.predict(x=test_set_X[10:11,:]))"
      ],
      "execution_count": 0,
      "outputs": []
    },
    {
      "cell_type": "code",
      "metadata": {
        "id": "1lvqFtXAxi1j",
        "colab_type": "code",
        "colab": {
          "base_uri": "https://localhost:8080/",
          "height": 854
        },
        "outputId": "ba14fa6d-a823-43a3-bbcf-cdc86a710cef"
      },
      "source": [
        "Caller_Function()"
      ],
      "execution_count": 52,
      "outputs": [
        {
          "output_type": "stream",
          "text": [
            "Epoch 1/10\n",
            "50/50 [==============================] - 4s 89ms/step - loss: 441.8448 - acc: 0.1800\n",
            "Epoch 2/10\n",
            "50/50 [==============================] - 2s 35ms/step - loss: 793.6725 - acc: 0.3800\n",
            "Epoch 3/10\n",
            "50/50 [==============================] - 2s 35ms/step - loss: 533.6242 - acc: 0.4200\n",
            "Epoch 4/10\n",
            "50/50 [==============================] - 2s 35ms/step - loss: 318.1472 - acc: 0.3200\n",
            "Epoch 5/10\n",
            "50/50 [==============================] - 2s 34ms/step - loss: 199.2126 - acc: 0.4200\n",
            "Epoch 6/10\n",
            "50/50 [==============================] - 2s 35ms/step - loss: 159.6276 - acc: 0.1200\n",
            "Epoch 7/10\n",
            "50/50 [==============================] - 2s 35ms/step - loss: 165.2983 - acc: 0.2800\n",
            "Epoch 8/10\n",
            "50/50 [==============================] - 2s 36ms/step - loss: 142.3491 - acc: 0.2000\n",
            "Epoch 9/10\n",
            "50/50 [==============================] - 2s 36ms/step - loss: 145.9833 - acc: 0.2000\n",
            "Epoch 10/10\n",
            "50/50 [==============================] - 2s 36ms/step - loss: 141.8437 - acc: 0.1800\n",
            "\n",
            "10/10 [==============================] - 1s 61ms/step\n",
            "Train_Accuracy : 20.000000298023224\n",
            "\n",
            "10/10 [==============================] - 0s 6ms/step\n",
            "Test_Accuracy : 10.000000149011612\n",
            "_________________________________________________________________\n",
            "Layer (type)                 Output Shape              Param #   \n",
            "=================================================================\n",
            "BatchNorm_F2 (BatchNormaliza (None, 12288)             49152     \n",
            "_________________________________________________________________\n",
            "FullyConnected2 (Dense)      (None, 1024)              12583936  \n",
            "_________________________________________________________________\n",
            "dropout_17 (Dropout)         (None, 1024)              0         \n",
            "_________________________________________________________________\n",
            "BatchNorm_F3 (BatchNormaliza (None, 1024)              4096      \n",
            "_________________________________________________________________\n",
            "FullyConnected3 (Dense)      (None, 6)                 6150      \n",
            "_________________________________________________________________\n",
            "dropout_18 (Dropout)         (None, 6)                 0         \n",
            "=================================================================\n",
            "Total params: 12,643,334\n",
            "Trainable params: 12,616,710\n",
            "Non-trainable params: 26,624\n",
            "_________________________________________________________________\n",
            "[[0. 0. 0. 1. 0. 0.]]\n"
          ],
          "name": "stdout"
        }
      ]
    },
    {
      "cell_type": "code",
      "metadata": {
        "id": "E1wTtQDx0ay1",
        "colab_type": "code",
        "colab": {}
      },
      "source": [
        ""
      ],
      "execution_count": 0,
      "outputs": []
    }
  ]
}