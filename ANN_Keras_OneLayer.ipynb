{
  "nbformat": 4,
  "nbformat_minor": 0,
  "metadata": {
    "colab": {
      "name": "ANN_Keras_OneLayer",
      "version": "0.3.2",
      "provenance": [],
      "collapsed_sections": []
    },
    "kernelspec": {
      "name": "python3",
      "display_name": "Python 3"
    }
  },
  "cells": [
    {
      "cell_type": "code",
      "metadata": {
        "id": "Abo8TAr_84Jm",
        "colab_type": "code",
        "colab": {}
      },
      "source": [
        "import numpy as np\n",
        "import matplotlib.pyplot as plt\n",
        "import tensorflow as tf\n",
        "import os\n",
        "import h5py\n",
        "import keras\n",
        "from keras.layers import *\n",
        "from keras.utils import plot_model\n",
        "from keras import regularizers\n",
        "\n",
        "%matplotlib inline"
      ],
      "execution_count": 0,
      "outputs": []
    },
    {
      "cell_type": "code",
      "metadata": {
        "id": "bawHA8Cl-HML",
        "colab_type": "code",
        "colab": {}
      },
      "source": [
        "os.chdir('drive/My Drive/Dataset')"
      ],
      "execution_count": 0,
      "outputs": []
    },
    {
      "cell_type": "code",
      "metadata": {
        "id": "lv0s3zb_-RgN",
        "colab_type": "code",
        "colab": {}
      },
      "source": [
        "def Load_Data():\n",
        "  \n",
        "  train_dataset = h5py.File('train_happy.h5','r')\n",
        "  test_dataset = h5py.File('test_happy.h5','r')\n",
        "  \n",
        "  train_set_X_orig = np.array(train_dataset['train_set_x'][:])\n",
        "  train_set_Y_orig = np.array(train_dataset['train_set_y'][:])\n",
        "  test_set_X_orig = np.array(test_dataset['test_set_x'][:])\n",
        "  test_set_Y_orig = np.array(test_dataset['test_set_y'][:])\n",
        "  \n",
        "  classes = np.array(test_dataset['list_classes'][:])\n",
        "  \n",
        "  return train_set_X_orig,train_set_Y_orig,test_set_X_orig,test_set_Y_orig,classes"
      ],
      "execution_count": 0,
      "outputs": []
    },
    {
      "cell_type": "code",
      "metadata": {
        "id": "4zKZEfQX-e-I",
        "colab_type": "code",
        "colab": {
          "base_uri": "https://localhost:8080/",
          "height": 305
        },
        "outputId": "e54de14c-8c74-46f6-818a-4b1024d24de8"
      },
      "source": [
        "train_set_X_orig,train_set_Y_orig,test_set_X_orig,test_set_Y_orig,classes = Load_Data()\n",
        "\n",
        "print(train_set_X_orig.shape,train_set_Y_orig.shape,test_set_X_orig.shape,test_set_Y_orig.shape)\n",
        "i = 3\n",
        "plt.imshow(test_set_X_orig[i])\n",
        "print('y = '+str(test_set_Y_orig[i])+'. The person is','Happy.' if test_set_Y_orig[i] else 'not Happy.')"
      ],
      "execution_count": 220,
      "outputs": [
        {
          "output_type": "stream",
          "text": [
            "(600, 64, 64, 3) (600,) (150, 64, 64, 3) (150,)\n",
            "y = 1. The person is Happy.\n"
          ],
          "name": "stdout"
        },
        {
          "output_type": "display_data",
          "data": {
            "image/png": "[encoded data removed]",
            "text/plain": [
              "<Figure size 432x288 with 1 Axes>"
            ]
          },
          "metadata": {
            "tags": []
          }
        }
      ]
    },
    {
      "cell_type": "code",
      "metadata": {
        "id": "r98Yq4Iy-t6_",
        "colab_type": "code",
        "colab": {}
      },
      "source": [
        "def Reshape_And_Normalize(train_set_X_orig,train_set_Y_orig,test_set_X_orig,test_set_Y_orig):\n",
        "  \n",
        "  m_train = train_set_X_orig.shape[0]\n",
        "  m_test = test_set_X_orig.shape[0]\n",
        "  train_set_X = train_set_X_orig.reshape(m_train,-1)\n",
        "  test_set_X = test_set_X_orig.reshape(m_test,-1)\n",
        "\n",
        "  train_set_Y = train_set_Y_orig.reshape((m_train,1))\n",
        "  test_set_Y = test_set_Y_orig.reshape((m_test,1))\n",
        "  \n",
        "  U_train = np.sum(train_set_X,axis=1,keepdims=True)/m_train\n",
        "  U_test = np.sum(test_set_X,axis=1,keepdims=True)/m_test\n",
        "  \n",
        "  train_set_X = train_set_X - U_train\n",
        "  test_set_X = test_set_X - U_test\n",
        "  \n",
        "  sigma_train = np.sqrt(np.sum(np.square(train_set_X),axis=1,keepdims=True)/m_train)\n",
        "  sigma_test = np.sqrt(np.sum(np.square(test_set_X),axis=1,keepdims=True)/m_test)\n",
        "  \n",
        "  train_set_X /= sigma_train\n",
        "  test_set_X /= sigma_test\n",
        "  \n",
        "  return train_set_X,train_set_Y,test_set_X,test_set_Y"
      ],
      "execution_count": 0,
      "outputs": []
    },
    {
      "cell_type": "code",
      "metadata": {
        "id": "bYKg2bhpAo3G",
        "colab_type": "code",
        "colab": {}
      },
      "source": [
        "def Data_Preprocessing():\n",
        "  \n",
        "  train_set_X_orig,train_set_Y_orig,test_set_X_orig,test_set_Y_orig,classes = Load_Data()\n",
        "  train_set_X,train_set_Y,test_set_X,test_set_Y = Reshape_And_Normalize(train_set_X_orig,train_set_Y_orig,test_set_X_orig,test_set_Y_orig)\n",
        "  \n",
        "  return train_set_X,train_set_Y,test_set_X,test_set_Y"
      ],
      "execution_count": 0,
      "outputs": []
    },
    {
      "cell_type": "code",
      "metadata": {
        "id": "eivNOxo6ArhU",
        "colab_type": "code",
        "colab": {}
      },
      "source": [
        "def Propagation(input_shape,output_neurons):\n",
        "  \n",
        "  X_input = Input(input_shape)\n",
        "  X = X_input\n",
        "  \n",
        "  if(output_neurons > 1):\n",
        "    activation_type = 'softmax'\n",
        "  elif(output_neurons == 1):\n",
        "    activation_type = 'sigmoid'\n",
        "  \n",
        "  X = BatchNormalization(axis=1,name='BatchNormalization')(X)\n",
        "  X = Dense(output_neurons,use_bias=True,activation=activation_type,kernel_initializer='glorot_uniform', bias_initializer='zeros',name='FullyConnected',kernel_regularizer=regularizers.l2(0.01))(X)\n",
        "  \n",
        "  model = keras.models.Model(inputs=X_input,outputs=X,name=\"ANN_Keras\")\n",
        "  \n",
        "  return model"
      ],
      "execution_count": 0,
      "outputs": []
    },
    {
      "cell_type": "code",
      "metadata": {
        "id": "-Db8dOHSCOcg",
        "colab_type": "code",
        "colab": {}
      },
      "source": [
        "def Caller_Function():\n",
        "  \n",
        "  train_set_X,train_set_Y,test_set_X,test_set_Y = Data_Preprocessing()\n",
        "  epochs = 10\n",
        "  mini_batch_size = 50\n",
        "  output_neurons = 1\n",
        "  \n",
        "  if(output_neurons > 1):\n",
        "    train_set_Y = np.eye(output_neurons)[train_set_Y.T][0]\n",
        "    test_set_Y = np.eye(output_neurons)[test_set_Y.T][0]\n",
        "    loss_val = 'categorical_crossentropy'\n",
        "  elif(output_neurons == 1):\n",
        "    loss_val = 'binary_crossentropy'\n",
        "    \n",
        "  input_shape = [train_set_X.shape[1]]\n",
        " \n",
        "  model = Propagation(input_shape,output_neurons)\n",
        "  model.compile(loss=loss_val,optimizer='adam',metrics=['accuracy'])\n",
        "  model.fit(x=train_set_X[0:50,:],y=train_set_Y[0:50,:],epochs=epochs,batch_size=mini_batch_size)\n",
        "  print('')\n",
        "  preds = model.evaluate(x=train_set_X[0:20,:],y=train_set_Y[0:20,:])\n",
        "  print(\"Train_Accuracy : \"+str(preds[1]*100))\n",
        "  print('')\n",
        "  preds = model.evaluate(x=test_set_X[0:10,:],y=test_set_Y[0:10,:])\n",
        "  print(\"Test_Accuracy : \"+str(preds[1]*100))\n",
        "  \n",
        "  model.summary()\n",
        "  print(model.predict(train_set_X[1:4,:]))"
      ],
      "execution_count": 0,
      "outputs": []
    },
    {
      "cell_type": "code",
      "metadata": {
        "id": "c83qCiHVC6LO",
        "colab_type": "code",
        "colab": {
          "base_uri": "https://localhost:8080/",
          "height": 781
        },
        "outputId": "2ddc742b-b135-445b-dfa9-6272a305f010"
      },
      "source": [
        "Caller_Function()"
      ],
      "execution_count": 221,
      "outputs": [
        {
          "output_type": "stream",
          "text": [
            "Epoch 1/10\n",
            "50/50 [==============================] - 5s 104ms/step - loss: 0.6961 - acc: 0.6600\n",
            "Epoch 2/10\n",
            "50/50 [==============================] - 0s 385us/step - loss: 0.6174 - acc: 0.7400\n",
            "Epoch 3/10\n",
            "50/50 [==============================] - 0s 308us/step - loss: 0.5618 - acc: 0.7000\n",
            "Epoch 4/10\n",
            "50/50 [==============================] - 0s 357us/step - loss: 0.5217 - acc: 0.7200\n",
            "Epoch 5/10\n",
            "50/50 [==============================] - 0s 348us/step - loss: 0.4864 - acc: 0.7200\n",
            "Epoch 6/10\n",
            "50/50 [==============================] - 0s 365us/step - loss: 0.4530 - acc: 0.7200\n",
            "Epoch 7/10\n",
            "50/50 [==============================] - 0s 336us/step - loss: 0.4218 - acc: 0.7800\n",
            "Epoch 8/10\n",
            "50/50 [==============================] - 0s 342us/step - loss: 0.3938 - acc: 0.8600\n",
            "Epoch 9/10\n",
            "50/50 [==============================] - 0s 467us/step - loss: 0.3692 - acc: 0.9200\n",
            "Epoch 10/10\n",
            "50/50 [==============================] - 0s 368us/step - loss: 0.3472 - acc: 0.9600\n",
            "\n",
            "20/20 [==============================] - 2s 110ms/step\n",
            "Train_Accuracy : 89.99999761581421\n",
            "\n",
            "10/10 [==============================] - 0s 829us/step\n",
            "Test_Accuracy : 80.0000011920929\n",
            "_________________________________________________________________\n",
            "Layer (type)                 Output Shape              Param #   \n",
            "=================================================================\n",
            "input_51 (InputLayer)        (None, 12288)             0         \n",
            "_________________________________________________________________\n",
            "BatchNormalization (BatchNor (None, 12288)             49152     \n",
            "_________________________________________________________________\n",
            "FullyConnected (Dense)       (None, 1)                 12289     \n",
            "=================================================================\n",
            "Total params: 61,441\n",
            "Trainable params: 36,865\n",
            "Non-trainable params: 24,576\n",
            "_________________________________________________________________\n",
            "[[0.686507  ]\n",
            " [0.75730175]\n",
            " [0.6782475 ]]\n"
          ],
          "name": "stdout"
        }
      ]
    },
    {
      "cell_type": "code",
      "metadata": {
        "id": "JFj8XeLXFZYJ",
        "colab_type": "code",
        "colab": {}
      },
      "source": [
        ""
      ],
      "execution_count": 0,
      "outputs": []
    }
  ]
}