{
  "nbformat": 4,
  "nbformat_minor": 0,
  "metadata": {
    "colab": {
      "name": "ANN_TF_OneLayer",
      "version": "0.3.2",
      "provenance": [],
      "collapsed_sections": []
    },
    "kernelspec": {
      "name": "python3",
      "display_name": "Python 3"
    }
  },
  "cells": [
    {
      "cell_type": "code",
      "metadata": {
        "id": "XfEd1zi_sEe0",
        "colab_type": "code",
        "colab": {}
      },
      "source": [
        "import numpy as np\n",
        "import tensorflow as tf\n",
        "import matplotlib.pyplot as plt\n",
        "import os\n",
        "import h5py\n",
        "\n",
        "%matplotlib inline"
      ],
      "execution_count": 0,
      "outputs": []
    },
    {
      "cell_type": "code",
      "metadata": {
        "id": "nO_9Suztsv3l",
        "colab_type": "code",
        "colab": {}
      },
      "source": [
        "os.chdir('drive/My Drive/Dataset')"
      ],
      "execution_count": 0,
      "outputs": []
    },
    {
      "cell_type": "code",
      "metadata": {
        "id": "uQUyBsPpsxM4",
        "colab_type": "code",
        "colab": {}
      },
      "source": [
        "def Load_Data():\n",
        "  \n",
        "  train_dataset = h5py.File('train_catvnoncat.h5','r')\n",
        "  test_dataset = h5py.File('test_catvnoncat.h5','r')\n",
        "  \n",
        "  train_set_X_orig = np.array(train_dataset['train_set_x'][:])\n",
        "  train_set_Y_orig = np.array(train_dataset['train_set_y'][:])\n",
        "  test_set_X_orig = np.array(test_dataset['test_set_x'][:])\n",
        "  test_set_Y_orig = np.array(test_dataset['test_set_y'][:])\n",
        "  \n",
        "  classes = np.array(test_dataset['list_classes'][:])\n",
        "  \n",
        "  return train_set_X_orig,train_set_Y_orig,test_set_X_orig,test_set_Y_orig,classes"
      ],
      "execution_count": 0,
      "outputs": []
    },
    {
      "cell_type": "code",
      "metadata": {
        "id": "paVVD12mtxyR",
        "colab_type": "code",
        "colab": {}
      },
      "source": [
        "def Reshape_And_Normalize(train_set_X_orig,train_set_Y_orig,test_set_X_orig,test_set_Y_orig):\n",
        "  \n",
        "  m_train = train_set_X_orig.shape[0]\n",
        "  m_test = test_set_X_orig.shape[0]\n",
        "  \n",
        "  train_set_X = train_set_X_orig.reshape(m_train,-1).T\n",
        "  train_set_Y = train_set_Y_orig.reshape(m_train,1)\n",
        "  test_set_X = test_set_X_orig.reshape(m_test,-1).T\n",
        "  test_set_Y = test_set_Y_orig.reshape(m_test,1)\n",
        "  \n",
        "  U_train = np.sum(train_set_X,axis=0,keepdims=True)/train_set_X.shape[0]\n",
        "  U_test = np.sum(test_set_X,axis=0,keepdims=True)/test_set_X.shape[0]\n",
        "  \n",
        "  train_set_X = train_set_X - U_train\n",
        "  test_set_X = test_set_X - U_test\n",
        "  \n",
        "  sigma_train = np.sqrt(np.sum(np.square(train_set_X),axis=0,keepdims=True)/train_set_X.shape[0])\n",
        "  sigma_test = np.sqrt(np.sum(np.square(test_set_X),axis=0,keepdims=True)/test_set_X.shape[0])\n",
        "  \n",
        "  train_set_X /= sigma_train\n",
        "  test_set_X /= sigma_test\n",
        "  \n",
        "  assert(train_set_Y.shape == (m_train,1) and sigma_train.shape == (1,m_train))\n",
        "  \n",
        "  return train_set_X,train_set_Y,test_set_X,test_set_Y"
      ],
      "execution_count": 0,
      "outputs": []
    },
    {
      "cell_type": "code",
      "metadata": {
        "id": "k5ys8HDmuMeu",
        "colab_type": "code",
        "colab": {
          "base_uri": "https://localhost:8080/",
          "height": 305
        },
        "outputId": "b50418d1-67ef-467b-b267-83cc5e5daf1d"
      },
      "source": [
        "train_set_X_orig,train_set_Y_orig,test_set_X_orig,test_set_Y_orig,classes = Load_Data()\n",
        "\n",
        "i=19\n",
        "plt.imshow(train_set_X_orig[i])\n",
        "print('y = '+str(train_set_Y_orig[i])+'. It is a '+classes[train_set_Y_orig[i]].decode('utf-8')+' picture')\n",
        "\n",
        "train_set_X,train_set_Y,test_set_X,test_set_Y = Reshape_And_Normalize(train_set_X_orig,train_set_Y_orig,test_set_X_orig,test_set_Y_orig)\n",
        "print(train_set_X.shape,train_set_Y.shape,test_set_X.shape,test_set_Y.shape)"
      ],
      "execution_count": 62,
      "outputs": [
        {
          "output_type": "stream",
          "text": [
            "y = 1. It is a cat picture\n",
            "(12288, 209) (209, 1) (12288, 50) (50, 1)\n"
          ],
          "name": "stdout"
        },
        {
          "output_type": "display_data",
          "data": {
            "image/png": "[encoded data removed]",
            "text/plain": [
              "<Figure size 432x288 with 1 Axes>"
            ]
          },
          "metadata": {
            "tags": []
          }
        }
      ]
    },
    {
      "cell_type": "code",
      "metadata": {
        "id": "qAFEpvu1ufrT",
        "colab_type": "code",
        "colab": {}
      },
      "source": [
        "def Data_Preprocessing():\n",
        "  \n",
        "  train_set_X_orig,train_set_Y_orig,test_set_X_orig,test_set_Y_orig,classes = Load_Data()\n",
        "  train_set_X,train_set_Y,test_set_X,test_set_Y = Reshape_And_Normalize(train_set_X_orig,train_set_Y_orig,test_set_X_orig,test_set_Y_orig)\n",
        "  \n",
        "  return train_set_X,train_set_Y,test_set_X,test_set_Y"
      ],
      "execution_count": 0,
      "outputs": []
    },
    {
      "cell_type": "code",
      "metadata": {
        "id": "Rls7NsLNz7i7",
        "colab_type": "code",
        "colab": {}
      },
      "source": [
        "def Create_Placeholder(shape,output_neurons):\n",
        "  \n",
        "  X = tf.placeholder(name='X',dtype=tf.float32,shape=(shape[0],None))\n",
        "  Y = tf.placeholder(name='Y',dtype=tf.float32,shape=(None,output_neurons))\n",
        "  \n",
        "  return X,Y"
      ],
      "execution_count": 0,
      "outputs": []
    },
    {
      "cell_type": "code",
      "metadata": {
        "id": "Gb4Lhsxu2lT0",
        "colab_type": "code",
        "colab": {}
      },
      "source": [
        "def Initialize_Parameters(output_neurons,shape):\n",
        "  \n",
        "  parameters = {}\n",
        "  \n",
        "  W = tf.get_variable(name='W',shape=(output_neurons,shape[0]),initializer=tf.contrib.layers.xavier_initializer())\n",
        "  b = tf.get_variable(name='b',shape=(output_neurons,1),initializer=tf.zeros_initializer())\n",
        "  \n",
        "  parameters['W'] = W\n",
        "  parameters['b'] = b\n",
        "  \n",
        "  return parameters"
      ],
      "execution_count": 0,
      "outputs": []
    },
    {
      "cell_type": "code",
      "metadata": {
        "id": "dyzpkefu3oSR",
        "colab_type": "code",
        "colab": {}
      },
      "source": [
        "def compute_cost_sigmoid(A,Y,parameters,regu,lambd):\n",
        "  \n",
        "  m_train = tf.cast(tf.shape(Y)[0],dtype=tf.float32)\n",
        "  cost = tf.reduce_mean(tf.nn.sigmoid_cross_entropy_with_logits(logits=A,labels=Y))\n",
        "  \n",
        "  if(regu):\n",
        "    sum = tf.Variable(0.0)\n",
        "    W = parameters['W']\n",
        "    sum = tf.add(sum,tf.nn.l2_loss(W))\n",
        "    sum = tf.divide(tf.multiply(sum,lambd),m_train)\n",
        "    \n",
        "    cost = tf.add(cost,sum)\n",
        "  \n",
        "  return cost"
      ],
      "execution_count": 0,
      "outputs": []
    },
    {
      "cell_type": "code",
      "metadata": {
        "id": "rsdHK9Lm4yVn",
        "colab_type": "code",
        "colab": {}
      },
      "source": [
        "def compute_cost_softmax(A,Y,parameters,regu,lambd):\n",
        "  \n",
        "  m_train = tf.cast(tf.shape(Y)[0],dtype=tf.float32)\n",
        "  A = tf.transpose(A)\n",
        "  cost = tf.reduce_mean(tf.nn.softmax_cross_entropy_with_logits(logits=A,labels=Y))\n",
        "  \n",
        "  if(regu):\n",
        "    sum = tf.Variable(0.0)\n",
        "    W = parameters['W']\n",
        "    sum = tf.add(sum,tf.nn.l2_loss(W))\n",
        "    sum = tf.divide(tf.multiply(sum,lambd),m_train)\n",
        "    \n",
        "    cost = tf.add(cost,sum)\n",
        "  \n",
        "  return cost"
      ],
      "execution_count": 0,
      "outputs": []
    },
    {
      "cell_type": "code",
      "metadata": {
        "id": "EtxX2L5R7usu",
        "colab_type": "code",
        "colab": {}
      },
      "source": [
        "def Shuffle_And_Split(train_set_X,train_set_Y,mini_batch_size):\n",
        "  \n",
        "  m_train = train_set_X.shape[1]\n",
        "  perm = list(np.random.permutation(m_train))\n",
        "  train_set_X = train_set_X[:,perm]\n",
        "  train_set_Y = train_set_Y[perm,:]\n",
        "  \n",
        "  n = int(m_train/mini_batch_size)\n",
        "  minibatches = []\n",
        "  \n",
        "  for i in range(n):\n",
        "    X = train_set_X[:,i*mini_batch_size:(i+1)*mini_batch_size]\n",
        "    Y = train_set_Y[i*mini_batch_size:(i+1)*mini_batch_size,:]\n",
        "    minibatch = (X,Y)\n",
        "    minibatches.append(minibatch)\n",
        "  \n",
        "  if(m_train % mini_batch_size != 0):\n",
        "    X = train_set_X[:,n*mini_batch_size:m_train]\n",
        "    Y = train_set_Y[n*mini_batch_size:m_train,:]\n",
        "    minibatch = (X,Y)\n",
        "    minibatches.append(minibatch)\n",
        "  \n",
        "  return minibatches"
      ],
      "execution_count": 0,
      "outputs": []
    },
    {
      "cell_type": "code",
      "metadata": {
        "id": "6zVBQFn376nu",
        "colab_type": "code",
        "colab": {}
      },
      "source": [
        "def Model(train_set_X,train_set_Y,test_set_X,test_set_Y,learning_rate,epochs,output_neurons,regu,lambd,mini_batch_size):\n",
        "  \n",
        "  if(output_neurons > 1):\n",
        "    activation = 'softmax'\n",
        "    train_set_Y = np.eye(output_neurons)[train_set_Y.T][0]\n",
        "    test_set_Y = np.eye(output_neurons)[test_set_Y.T][0]\n",
        "  else:\n",
        "      activation = 'sigmoid'\n",
        "  \n",
        "  X,Y = Create_Placeholder(train_set_X.shape,output_neurons)\n",
        "  parameters = Initialize_Parameters(output_neurons,train_set_X.shape)\n",
        "  W = parameters['W']\n",
        "  b = parameters['b']\n",
        "  ZNorm = tf.add(tf.matmul(W,X),b)\n",
        "  #ZNorm = tf.layers.batch_normalization(Z,axis=0,epsilon=0.0001,center=True,scale=True,gamma_initializer=tf.contrib.layers.xavier_initializer(),beta_initializer=tf.zeros_initializer())\n",
        "  \n",
        "  if(activation == 'softmax'):\n",
        "    cost = compute_cost_softmax(ZNorm,Y,parameters,regu,lambd)\n",
        "  else:\n",
        "    cost = compute_cost_sigmoid(ZNorm,Y,parameters,regu,lambd)\n",
        "  \n",
        "  optimizer = tf.train.AdamOptimizer(learning_rate).minimize(cost)\n",
        "  \n",
        "  init = tf.global_variables_initializer()\n",
        "  sess = tf.Session()\n",
        "  sess.run(init)\n",
        "  total_cost = []\n",
        "  \n",
        "  for i in range(epochs):\n",
        "    minibatches = Shuffle_And_Split(train_set_X,train_set_Y,mini_batch_size)\n",
        "    \n",
        "    for minibatch in minibatches:\n",
        "      (minibatch_X,minibatch_Y) = minibatch\n",
        "      val1,val2 = sess.run([cost,optimizer],feed_dict={X:minibatch_X,Y:minibatch_Y})\n",
        "      \n",
        "      if(i%10 == 0):\n",
        "        total_cost.append(val1)\n",
        "    \n",
        "    if(i%10 == 0):\n",
        "      print('Cost after '+str(i)+'th Iteration : '+str(val1))\n",
        "    \n",
        "  plt.plot(total_cost)\n",
        "  plt.xlabel('Iterations')\n",
        "  plt.ylabel('Cost')\n",
        "  plt.title(\"Learning_Rate : \"+str(learning_rate))\n",
        "  plt.show()  \n",
        "  \n",
        "  if(activation == 'sigmoid'):\n",
        "    A = tf.sigmoid(ZNorm)\n",
        "    A = tf.ceil(A-0.5)\n",
        "    Acc = tf.reduce_mean(tf.multiply(A,Y))*100\n",
        "  \n",
        "  else:\n",
        "    A = tf.nn.softmax(ZNorm)\n",
        "    A = tf.transpose(A)\n",
        "    A_val = tf.argmax(A,axis=1)\n",
        "    A_corr = tf.cast(tf.equal(A_val,tf.argmax(Y,axis=1)),'float')\n",
        "    Acc = tf.reduce_mean(A_corr)*100\n",
        "    \n",
        "  print(\"Training Set Accuracy  :  \",sess.run(Acc,feed_dict={X:train_set_X,Y:train_set_Y})) \n",
        "  print(\"Test Set Accuracy  :  \",sess.run(Acc,feed_dict={X:test_set_X,Y:test_set_Y}))\n",
        "  \n",
        "  parameters = sess.run(parameters)\n",
        "  \n",
        "  sess.close()\n",
        "  \n",
        "  return parameters"
      ],
      "execution_count": 0,
      "outputs": []
    },
    {
      "cell_type": "code",
      "metadata": {
        "id": "ksJrDRH89SQH",
        "colab_type": "code",
        "colab": {}
      },
      "source": [
        "def Caller_Function():\n",
        "  \n",
        "  train_set_X,train_set_Y,test_set_X,test_set_Y = Data_Preprocessing()\n",
        "  learning_rate = 0.001\n",
        "  epochs = 500\n",
        "  output_neurons = 2\n",
        "  mini_batch_size = 209\n",
        "  regu = False\n",
        "  lambd = 0.01\n",
        "  parameters = Model(train_set_X,train_set_Y,test_set_X,test_set_Y,learning_rate,epochs,output_neurons,regu,lambd,mini_batch_size)\n",
        "  \n",
        "  print('')\n",
        "  for key,value in parameters.items():\n",
        "    print(key,value)"
      ],
      "execution_count": 0,
      "outputs": []
    },
    {
      "cell_type": "code",
      "metadata": {
        "id": "c0qDCJC7D6Mx",
        "colab_type": "code",
        "colab": {
          "base_uri": "https://localhost:8080/",
          "height": 1000
        },
        "outputId": "3bada974-57e0-4352-8b63-5c8ce9d869bc"
      },
      "source": [
        "tf.reset_default_graph()\n",
        "Caller_Function()"
      ],
      "execution_count": 152,
      "outputs": [
        {
          "output_type": "stream",
          "text": [
            "Cost after 0th Iteration : 1.0442493\n",
            "Cost after 10th Iteration : 0.3641956\n",
            "Cost after 20th Iteration : 0.07176317\n",
            "Cost after 30th Iteration : 0.03349849\n",
            "Cost after 40th Iteration : 0.016972447\n",
            "Cost after 50th Iteration : 0.010733889\n",
            "Cost after 60th Iteration : 0.008355697\n",
            "Cost after 70th Iteration : 0.00708951\n",
            "Cost after 80th Iteration : 0.006223542\n",
            "Cost after 90th Iteration : 0.0056057815\n",
            "Cost after 100th Iteration : 0.005107827\n",
            "Cost after 110th Iteration : 0.0046849125\n",
            "Cost after 120th Iteration : 0.0043182136\n",
            "Cost after 130th Iteration : 0.0039957487\n",
            "Cost after 140th Iteration : 0.0037098594\n",
            "Cost after 150th Iteration : 0.003454809\n",
            "Cost after 160th Iteration : 0.0032262078\n",
            "Cost after 170th Iteration : 0.0030204852\n",
            "Cost after 180th Iteration : 0.0028346484\n",
            "Cost after 190th Iteration : 0.0026662084\n",
            "Cost after 200th Iteration : 0.002513042\n",
            "Cost after 210th Iteration : 0.002373325\n",
            "Cost after 220th Iteration : 0.002245521\n",
            "Cost after 230th Iteration : 0.0021282977\n",
            "Cost after 240th Iteration : 0.0020204836\n",
            "Cost after 250th Iteration : 0.0019210937\n",
            "Cost after 260th Iteration : 0.0018292551\n",
            "Cost after 270th Iteration : 0.0017442068\n",
            "Cost after 280th Iteration : 0.0016652724\n",
            "Cost after 290th Iteration : 0.0015918784\n",
            "Cost after 300th Iteration : 0.0015234959\n",
            "Cost after 310th Iteration : 0.0014596748\n",
            "Cost after 320th Iteration : 0.001400003\n",
            "Cost after 330th Iteration : 0.001344122\n",
            "Cost after 340th Iteration : 0.0012917082\n",
            "Cost after 350th Iteration : 0.0012424742\n",
            "Cost after 360th Iteration : 0.0011961604\n",
            "Cost after 370th Iteration : 0.0011525279\n",
            "Cost after 380th Iteration : 0.0011113753\n",
            "Cost after 390th Iteration : 0.0010725078\n",
            "Cost after 400th Iteration : 0.001035753\n",
            "Cost after 410th Iteration : 0.0010009616\n",
            "Cost after 420th Iteration : 0.0009679931\n",
            "Cost after 430th Iteration : 0.0009367063\n",
            "Cost after 440th Iteration : 0.00090699666\n",
            "Cost after 450th Iteration : 0.0008787557\n",
            "Cost after 460th Iteration : 0.00085187587\n",
            "Cost after 470th Iteration : 0.0008262773\n",
            "Cost after 480th Iteration : 0.00080188055\n",
            "Cost after 490th Iteration : 0.000778599\n"
          ],
          "name": "stdout"
        },
        {
          "output_type": "display_data",
          "data": {
            "image/png": "[encoded data removed]",
            "text/plain": [
              "<Figure size 432x288 with 1 Axes>"
            ]
          },
          "metadata": {
            "tags": []
          }
        },
        {
          "output_type": "stream",
          "text": [
            "Training Set Accuracy  :   100.0\n",
            "Test Set Accuracy  :   64.0\n",
            "\n",
            "W [[ 0.00858008  0.02419569  0.00609205 ...  0.00899736  0.00422484\n",
            "  -0.02467777]\n",
            " [-0.00391195 -0.02887653 -0.01950579 ...  0.01123989 -0.02673627\n",
            "   0.00665917]]\n",
            "b [[-0.01129002]\n",
            " [ 0.01129004]]\n"
          ],
          "name": "stdout"
        }
      ]
    },
    {
      "cell_type": "code",
      "metadata": {
        "id": "0ccMK9YfELDk",
        "colab_type": "code",
        "colab": {}
      },
      "source": [
        ""
      ],
      "execution_count": 0,
      "outputs": []
    }
  ]
}